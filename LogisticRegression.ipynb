{
 "cells": [
  {
   "cell_type": "markdown",
   "metadata": {},
   "source": [
    "# Logistic Regression from scratch:\n",
    "---\n",
    "\n",
    "A simple implementation of Logistic Regression using numpy.<br>\n",
    "Tested the model on the Iris dataset."
   ]
  },
  {
   "cell_type": "markdown",
   "metadata": {},
   "source": [
    "# 1. Imports and Loading Data:\n",
    "---"
   ]
  },
  {
   "cell_type": "code",
   "execution_count": 19,
   "metadata": {},
   "outputs": [],
   "source": [
    "from sklearn.datasets import load_iris   # just for loading data\n",
    "import numpy as np\n",
    "import matplotlib.pyplot as plt\n",
    "\n",
    "plt.rcParams[\"figure.figsize\"] = (12,4)"
   ]
  },
  {
   "cell_type": "code",
   "execution_count": 3,
   "metadata": {},
   "outputs": [],
   "source": [
    "data = load_iris()\n",
    "classes = data['target_names']\n",
    "data_ = np.c_[data['data'], data['target']]"
   ]
  },
  {
   "cell_type": "markdown",
   "metadata": {},
   "source": [
    "# 2. Class Definition:\n",
    "---"
   ]
  },
  {
   "cell_type": "code",
   "execution_count": 25,
   "metadata": {},
   "outputs": [],
   "source": [
    "class LogisticRegression(object):\n",
    "    \"\"\"Class for Logistic Regression.\"\"\"\n",
    "    \n",
    "    def __init__(self):\n",
    "        \"\"\" theta  -- Parameters (initialised in fit method)\n",
    "            losses -- list of losses to add during training. \n",
    "        \"\"\"\n",
    "        self.theta = None\n",
    "        self.losses = []\n",
    "    \n",
    "    def sigmoid(self, z):\n",
    "        \"\"\"Activation function\"\"\"\n",
    "        return 1/(1 + np.exp(-z))\n",
    "        \n",
    "    def predict(self, X):\n",
    "        \"\"\"Return predictions based on current parameters.\"\"\"\n",
    "        return self.sigmoid(X.dot(self.theta))\n",
    "\n",
    "    def loss(self, X, y):\n",
    "        \"\"\"Return log loss function value to optimise.\"\"\"\n",
    "        return (-y * np.log(self.predict(X)) - (1 - y) * np.log(1 - self.predict(X))).mean()\n",
    "\n",
    "    def gradient(self, X, y):\n",
    "        \"\"\"Return the gradient of the loss function.\"\"\"\n",
    "        return (1/(2 * X.shape[0])) * X.T.dot(self.predict(X) - y)\n",
    "\n",
    "    def fit(self, X_train, y_train, lr=0.01, num_iter=5000, epochs=1):\n",
    "        \"\"\"Fit a Logistic Regression model on the given data.\n",
    "           X_train  -- train data (m * n matrix)\n",
    "           y_train  -- labels (m-dim vector of 1s/0s)\n",
    "           lr       -- learning rate (default 0.01)\n",
    "           num_iter -- number of iterations to run (default 5000)\n",
    "           epochs   -- number of times to iterate over data (default 1)\n",
    "           Return: None\n",
    "        \"\"\"\n",
    "        self.theta = np.zeros(X.shape[1] + 1)\n",
    "        for epoch in range(epochs):\n",
    "            for _ in range(num_iter):\n",
    "                op = self.predict(X_train)\n",
    "                self.theta -= lr * self.gradient(X_train, y_train)\n",
    "                self.losses.append(self.loss(X_train, y_train))"
   ]
  },
  {
   "cell_type": "markdown",
   "metadata": {},
   "source": [
    "# 3. One vs. All Classification:\n",
    "---"
   ]
  },
  {
   "cell_type": "code",
   "execution_count": 26,
   "metadata": {},
   "outputs": [],
   "source": [
    "def one_v_all_class(X, y, classes, plot=False):\n",
    "    \"\"\" Fit n LogisticRegression models for N classes.\n",
    "        X       -- train data (m*n matrix)\n",
    "        y       -- labels (m dimensional vector of [0, N))\n",
    "        classes -- list of class names\n",
    "        plot    -- boolean to show plot (default False)\n",
    "        Return: N LogisticRegression Objects\n",
    "    \"\"\"\n",
    "    models = {}\n",
    "    \n",
    "    for cl in range(len(classes)):\n",
    "        y_tr = (y_train == cl).astype(np.int32)\n",
    "        model = LogisticRegression()\n",
    "        model.fit(np.c_[np.ones(X_train.shape[0]), X_train], y_tr, lr=0.15)\n",
    "        models[classes[cl]] = model\n",
    "    \n",
    "        if plot:\n",
    "            plt.subplot(1, 3, cl+1)\n",
    "            plt.plot(model.losses)\n",
    "            plt.grid()\n",
    "            plt.title('Loss v. Iterations Graph: ' + str(classes[cl]))\n",
    "            plt.ylabel('Log Loss: ')\n",
    "            plt.xlabel('Iterations: ')\n",
    "    \n",
    "    if plot:\n",
    "        plt.tight_layout()\n",
    "        plt.show() \n",
    "    \n",
    "    return models\n",
    "\n",
    "def one_v_all_predict(X, models):\n",
    "    \"\"\"Return One Vs. All Classification predictions for N classes.\n",
    "       X      -- train_data (m*n matrix)\n",
    "       models -- list of models on each class of length N\n",
    "       Return: m dimensional vector of [0, N)\n",
    "    \"\"\"\n",
    "    mods = models.items()\n",
    "    preds = [mod.predict(np.c_[np.ones(X.shape[0]), X]) for name, mod in mods]\n",
    "    return np.array(preds).argmax(axis=0)\n",
    "\n",
    "def accuracy_score(y_true, y_pred):\n",
    "    \"\"\"Returns accuracy given true and predicted labels.\n",
    "       y_true -- true labels - m dimensional vector of [0, N)\n",
    "       y_pred -- predicted labels - m dimensional vector of [0, N)\n",
    "       Return: float\n",
    "    \"\"\"\n",
    "    return ((y_true == y_pred).sum()/y_pred.shape[0])"
   ]
  },
  {
   "cell_type": "markdown",
   "metadata": {},
   "source": [
    "# 4. Data split and testing the model:\n",
    "---"
   ]
  },
  {
   "cell_type": "code",
   "execution_count": 38,
   "metadata": {},
   "outputs": [],
   "source": [
    "# simple random 80-20 split:\n",
    "np.random.shuffle(data_)\n",
    "\n",
    "X = data_[:, :-1]\n",
    "y = data_[:, -1]\n",
    "\n",
    "X_train = X[:int(0.8*X.shape[0]), :]\n",
    "y_train = y[:int(0.8*X.shape[0])]\n",
    "\n",
    "X_val = X[int(0.8*X.shape[0]):, :]\n",
    "y_val = y[int(0.8*X.shape[0]):]"
   ]
  },
  {
   "cell_type": "code",
   "execution_count": 39,
   "metadata": {},
   "outputs": [
    {
     "data": {
      "image/png": "[encoded data removed]",
      "text/plain": [
       "<Figure size 864x288 with 3 Axes>"
      ]
     },
     "metadata": {
      "needs_background": "light"
     },
     "output_type": "display_data"
    },
    {
     "name": "stdout",
     "output_type": "stream",
     "text": [
      "Train Accuracy: 97.5\n",
      "Validation Accuracy: 97.5\n"
     ]
    }
   ],
   "source": [
    "models = one_v_all_class(X_train, y_train, classes, plot=True)\n",
    "\n",
    "print(\"Train Accuracy: \" + str(accuracy_score(y_train, one_v_all_predict(X_train, models)) * 100))\n",
    "print(\"Validation Accuracy: \" + str(accuracy_score(y_val, one_v_all_predict(X_val, models)) * 100))"
   ]
  }
 ],
 "metadata": {
  "kernelspec": {
   "display_name": "Python 3",
   "language": "python",
   "name": "python3"
  },
  "language_info": {
   "codemirror_mode": {
    "name": "ipython",
    "version": 3
   },
   "file_extension": ".py",
   "mimetype": "text/x-python",
   "name": "python",
   "nbconvert_exporter": "python",
   "pygments_lexer": "ipython3",
   "version": "3.7.4"
  }
 },
 "nbformat": 4,
 "nbformat_minor": 2
}
